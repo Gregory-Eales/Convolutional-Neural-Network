{
  "nbformat": 4,
  "nbformat_minor": 0,
  "metadata": {
    "colab": {
      "name": "Convolutional-NN2.ipynb",
      "version": "0.3.2",
      "provenance": [],
      "collapsed_sections": [],
      "include_colab_link": true
    },
    "kernelspec": {
      "name": "python3",
      "display_name": "Python 3"
    }
  },
  "cells": [
    {
      "cell_type": "markdown",
      "metadata": {
        "id": "view-in-github",
        "colab_type": "text"
      },
      "source": [
        "<a href=\"https://colab.research.google.com/github/Gregory-Eales/Convolutional-Neural-Network/blob/master/Convolutional_NN2.ipynb\" target=\"_parent\"><img src=\"https://colab.research.google.com/assets/colab-badge.svg\" alt=\"Open In Colab\"/></a>"
      ]
    },
    {
      "metadata": {
        "id": "y713Tm5-Zi3C",
        "colab_type": "code",
        "outputId": "2a59dcbf-0795-463c-8866-e76cb6702a8d",
        "colab": {
          "base_uri": "https://localhost:8080/",
          "height": 105
        }
      },
      "cell_type": "code",
      "source": [
        "! pip3 install sklearn"
      ],
      "execution_count": 0,
      "outputs": [
        {
          "output_type": "stream",
          "text": [
            "Requirement already satisfied: sklearn in /usr/local/lib/python3.6/dist-packages (0.0)\n",
            "Requirement already satisfied: scikit-learn in /usr/local/lib/python3.6/dist-packages (from sklearn) (0.20.2)\n",
            "Requirement already satisfied: scipy>=0.13.3 in /usr/local/lib/python3.6/dist-packages (from scikit-learn->sklearn) (1.1.0)\n",
            "Requirement already satisfied: numpy>=1.8.2 in /usr/local/lib/python3.6/dist-packages (from scikit-learn->sklearn) (1.14.6)\n"
          ],
          "name": "stdout"
        }
      ]
    },
    {
      "metadata": {
        "id": "QhHfWuxmUxji",
        "colab_type": "code",
        "colab": {}
      },
      "cell_type": "code",
      "source": [
        "import numpy as np\n",
        "from matplotlib import pyplot as plt"
      ],
      "execution_count": 0,
      "outputs": []
    },
    {
      "metadata": {
        "id": "1rrLSw_k4RP4",
        "colab_type": "code",
        "colab": {}
      },
      "cell_type": "code",
      "source": [
        "class ConvolutionalNeuralNetwork(object):\n",
        "  \n",
        "  def __init__(self, window_shape = [], num_conv_filters=3, num_pool_fitlers=3):\n",
        "    self.layers = []\n",
        "    self.output = []\n",
        "    self.num_conv_filters = num_conv_filters\n",
        "    self.num_pool_filters = num_pool_filters\n",
        "    self.convolutional_weights = {}\n",
        "    \n",
        "  def single_pool(self, layer_chunk):\n",
        "    return np.sum(layer_chunk)\n",
        "  \n",
        "  def single_convolution(self, layer_chunk, weight_id):\n",
        "    return np.sum(np.multiply(layer_chunk, self.convolutional_weights[weight_id]))\n",
        "  \n",
        "  \n",
        "  def convolutional_forward(self, img_dimensions=[64, 64], window_shape=[4, 4]):\n",
        "    self.img_dimensions = img_dimensions\n",
        "    window_x, window_y = window_shape[1], window_shape[0]\n",
        "    conv_y = self.img_dimensions[0]\n",
        "    conv_x = self.img_dimensions[1]\n",
        "    conv_y = (conv_y - window_y) / window_y + 1\n",
        "    conv_x = (conv_x - window_x) / window_x + 1\n",
        "    conv_z = self.num_conv_filters\n",
        "    conv_output = np.zeros([conv_x, conv_y, conv_z])\n",
        "    for i in range(conv_x):\n",
        "      for j in range(conv_y):\n",
        "        for k in range(conv_z):\n",
        "          \n",
        "             \n",
        "  def pooling_forward(self, pool_window=[4, 4, 4], img_dimensions=[64, 64], X):\n",
        "    self.img_dimensions = img_dimensions\n",
        "    window_x, window_y, window_z = pool_window[0], pool_window[1], pool_window[2]\n",
        "    pool_x = self.img_dimensions[0]\n",
        "    pool_y = self.img_dimensions[1]\n",
        "    pool_x = (pool_x - window_x) / window_x + 1\n",
        "    pool_y = (pool_y - window_y) / window_y + 1\n",
        "    pool_z = self.num_pool_filters\n",
        "    pool_output = np.zeros([pool_x, pool_y, pool_z])\n",
        "    for i in range(pool_x):\n",
        "      for j in range(pool_y):\n",
        "        for k in range(pool_z):\n",
        "          layer_chunk = X[i*window_x:(i+1)*window_x][i*window_y:(i+1)*window_y][i*window_z:(i+1)*window_z]\n",
        "          \n",
        "          \n",
        "          \n",
        "    \n",
        "    \n",
        "    \n",
        "  def add_layer(layer):\n",
        "    self.layers.append(layer)\n",
        "    "
      ],
      "execution_count": 0,
      "outputs": []
    },
    {
      "metadata": {
        "id": "EOQzbjyxF1zS",
        "colab_type": "code",
        "colab": {}
      },
      "cell_type": "code",
      "source": [
        "class ConvolutionalLayer(object):\n",
        "  \n",
        "  def __init__(self, window_size=[4, 4]):\n",
        "    pass\n"
      ],
      "execution_count": 0,
      "outputs": []
    },
    {
      "metadata": {
        "id": "-iUUxb2HYs6c",
        "colab_type": "text"
      },
      "cell_type": "markdown",
      "source": [
        ""
      ]
    },
    {
      "metadata": {
        "id": "Qp2C91UaHLVH",
        "colab_type": "code",
        "colab": {}
      },
      "cell_type": "code",
      "source": [
        "class PoolingLayer(object):\n",
        "  \n",
        "  def __init__(self, pool_size=[4, 4]):\n",
        "    self.pool_size = pool_size\n",
        "    \n",
        "    "
      ],
      "execution_count": 0,
      "outputs": []
    },
    {
      "metadata": {
        "id": "2_tW5U_VIIlJ",
        "colab_type": "code",
        "colab": {}
      },
      "cell_type": "code",
      "source": [
        "class DenseLayer(object):\n",
        "  \n",
        "  def __init_(self, layer_top=[]):\n",
        "    self.layer_top = layer_top\n",
        "    \n",
        "  def sigmoid(self, z):\n",
        "    return 1 / (np.exp(-z) + 1)\n",
        "\n",
        "  def sigmoid_prime(self, z):\n",
        "    return "
      ],
      "execution_count": 0,
      "outputs": []
    },
    {
      "metadata": {
        "id": "ipTo32n0Y6u1",
        "colab_type": "code",
        "colab": {}
      },
      "cell_type": "code",
      "source": [
        ""
      ],
      "execution_count": 0,
      "outputs": []
    }
  ]
}